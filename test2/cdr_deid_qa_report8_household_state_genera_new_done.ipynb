{
 "cells": [
  {
   "cell_type": "markdown",
   "metadata": {},
   "source": [
    "# QA queries on new CDR_deid household AND state generalization"
   ]
  },
  {
   "cell_type": "code",
   "execution_count": null,
   "metadata": {
    "tags": [
     "parameters"
    ]
   },
   "outputs": [],
   "source": [
    "project_id = \"\"\n",
    "rt_cdr_deid=\"\"\n",
    "combine = \"\"\n",
    "pid_threshold=\"\""
   ]
  },
  {
   "cell_type": "code",
   "execution_count": null,
   "metadata": {},
   "outputs": [],
   "source": [
    "import pandas as pd\n",
    "\n",
    "from analytics.cdr_ops.notebook_utils import execute\n",
    "from common import JINJA_ENV\n",
    "from utils import auth\n",
    "from utils.bq import get_client\n",
    "\n",
    "client = get_client(project_id)\n",
    "\n",
    "pd.options.display.max_rows = 120\n",
    "pd.set_option('display.max_colwidth', -1) # show all content"
   ]
  },
  {
   "cell_type": "code",
   "execution_count": null,
   "metadata": {},
   "outputs": [],
   "source": [
    "# df will have a summary in the end\n",
    "df = pd.DataFrame(columns = ['query', 'result']) "
   ]
  },
  {
   "cell_type": "markdown",
   "metadata": {},
   "source": [
    "# Query1 Verify that if the observation_source_concept_id  field in OBSERVATION table populates: 1585890, the value_as_concept_id field in de-id table should populate : 2000000012\n",
    "\n",
    "DC-1049\n",
    "\n",
    "Expected result:\n",
    "\n",
    "Null is the value poplulated in the value_as_number fields \n",
    "\n",
    "AND 2000000012, 2000000010 AND 903096 are the values that are populated in value_as_concept_id field  in the deid table.\n",
    "\n",
    "Per Francis, the other two values are valid. so it is pass. "
   ]
  },
  {
   "cell_type": "code",
   "execution_count": null,
   "metadata": {},
   "outputs": [],
   "source": [
    "query=JINJA_ENV.from_string(\"\"\"\n",
    "\n",
    "SELECT COUNT (*) AS n_row_not_pass\n",
    "FROM `{{project_id}}.{{rt_cdr_deid}}.observation`\n",
    "WHERE\n",
    "  observation_source_concept_id = 1585890\n",
    "  AND value_as_concept_id NOT IN (2000000012,2000000010,903096)\n",
    "\"\"\")\n",
    "q = query.render(project_id=project_id,rt_cdr_deid=rt_cdr_deid)\n",
    "df1=execute(client, q)\n",
    "\n",
    "if df1.loc[0].sum()==0:\n",
    " df = df.append({'query' : 'Query1 observation_source_concept_id 1585890', 'result' : 'PASS'},  \n",
    "                ignore_index = True) \n",
    "else:\n",
    " df = df.append({'query' : 'Query1 observation_source_concept_id 1585890', 'result' : 'Failure'},  \n",
    "                ignore_index = True) \n",
    "df1"
   ]
  },
  {
   "cell_type": "markdown",
   "metadata": {},
   "source": [
    "# Query2 Verify that if the observation_source_concept_id  field in OBSERVATION table populates: 1333023 , the value_as_concept_id field in de-id table should populate : 2000000012\n",
    "\n",
    "expected results:\n",
    "\n",
    "Null is the value poplulated in the value_as_number fields\n",
    "\n",
    "AND 2000000012, 2000000010 AND 903096 are the values that are populated in value_as_concept_id field in the deid table.\n",
    "\n",
    "## one row had error in new cdr"
   ]
  },
  {
   "cell_type": "code",
   "execution_count": null,
   "metadata": {},
   "outputs": [],
   "source": [
    "query=JINJA_ENV.from_string(\"\"\"\n",
    "\n",
    "SELECT COUNT (*) AS n_row_not_pass\n",
    "FROM `{{project_id}}.{{rt_cdr_deid}}.observation`\n",
    "WHERE\n",
    "  observation_source_concept_id = 1333023\n",
    "  AND value_as_concept_id NOT IN (2000000012,2000000010,903096)\n",
    "\"\"\")\n",
    "q = query.render(project_id=project_id,rt_cdr_deid=rt_cdr_deid)\n",
    "df1=execute(client, q)\n",
    "\n",
    "if df1.loc[0].sum()==0:\n",
    " df = df.append({'query' : 'Query2 observation_source_concept_id 1333023', 'result' : 'PASS'},  \n",
    "                ignore_index = True) \n",
    "else:\n",
    " df = df.append({'query' : 'Query2 observation_source_concept_id 1333023', 'result' : 'Failure'},  \n",
    "                ignore_index = True) \n",
    "df1"
   ]
  },
  {
   "cell_type": "code",
   "execution_count": null,
   "metadata": {},
   "outputs": [],
   "source": [
    "query=JINJA_ENV.from_string(\"\"\"\n",
    "\n",
    "SELECT *\n",
    "FROM `{{project_id}}.{{rt_cdr_deid}}.observation`\n",
    "WHERE\n",
    "  observation_source_concept_id = 1333023\n",
    "  AND value_as_concept_id NOT IN (2000000012,2000000010,903096)\n",
    "\"\"\")\n",
    "q = query.render(project_id=project_id,rt_cdr_deid=rt_cdr_deid)\n",
    "df1=execute(client, q)\n",
    "df1"
   ]
  },
  {
   "cell_type": "markdown",
   "metadata": {},
   "source": [
    "# Query3 Verify that if the observation_source_concept_id  field in OBSERVATION table populates: 1585889,  the value_as_concept_id field in de-id table should populate : 2000000013\n",
    "\n",
    "DC-1059\n",
    "\n",
    "expected results:\n",
    "\n",
    "Null is the value poplulated in the value_as_number fields \n",
    "\n",
    "AND 2000000013, 2000000010 AND 903096 are the values that are populated in value_as_concept_id field in the deid table."
   ]
  },
  {
   "cell_type": "code",
   "execution_count": null,
   "metadata": {},
   "outputs": [],
   "source": [
    "query=JINJA_ENV.from_string(\"\"\"\n",
    "SELECT COUNT (*) AS n_row_not_pass\n",
    "FROM  `{{project_id}}.{{rt_cdr_deid}}.observation`\n",
    "WHERE\n",
    "  observation_source_concept_id = 1585889\n",
    "  AND value_as_concept_id NOT IN (2000000013,2000000010,903096)\n",
    "\"\"\")\n",
    "q = query.render(project_id=project_id,rt_cdr_deid=rt_cdr_deid)\n",
    "df1=execute(client, q)\n",
    "\n",
    "if df1.loc[0].sum()==0:\n",
    " df = df.append({'query' : 'Query3 observation_source_concept_id 1585889', 'result' : 'PASS'},  \n",
    "                ignore_index = True) \n",
    "else:\n",
    " df = df.append({'query' : 'Query3 observation_source_concept_id 1585889', 'result' : 'Failure'},  \n",
    "                ignore_index = True) \n",
    "df1"
   ]
  },
  {
   "cell_type": "markdown",
   "metadata": {},
   "source": [
    "# Query4 Verify that if the observation_source_concept_id  field in OBSERVATION table populates: 1333015,  the value_as_concept_id field in de-id table should populate : 2000000013\n",
    "\n",
    "Generalization Rules for reference \n",
    "\n",
    "Living Situation: COPE survey Generalize household size >10\n",
    "\n",
    "expected results:\n",
    "\n",
    "Null is the value poplulated in the value_as_number fields \n",
    "\n",
    "AND 2000000013, 2000000010 AND 903096 are the values that are populated in value_as_concept_id field in the deid table."
   ]
  },
  {
   "cell_type": "code",
   "execution_count": null,
   "metadata": {},
   "outputs": [],
   "source": [
    "query=JINJA_ENV.from_string(\"\"\"\n",
    "\n",
    "SELECT COUNT (*) AS n_row_not_pass\n",
    "FROM  `{{project_id}}.{{rt_cdr_deid}}.observation`\n",
    "WHERE\n",
    "  observation_source_concept_id = 1333015\n",
    "  AND value_as_concept_id NOT IN (2000000013,2000000010,903096)\n",
    "\"\"\")\n",
    "q = query.render(project_id=project_id,rt_cdr_deid=rt_cdr_deid)\n",
    "df1=execute(client, q)\n",
    "\n",
    "if df1.loc[0].sum()==0:\n",
    " df = df.append({'query' : 'Query4 observation_source_concept_id 1333015', 'result' : 'PASS'},  \n",
    "                ignore_index = True) \n",
    "else:\n",
    " df = df.append({'query' : 'Query4 observation_source_concept_id 1333015', 'result' : 'Failure'},  \n",
    "                ignore_index = True) \n",
    "df1"
   ]
  },
  {
   "cell_type": "markdown",
   "metadata": {},
   "source": [
    "# state generalizaion"
   ]
  },
  {
   "cell_type": "markdown",
   "metadata": {},
   "source": [
    "## Query5 Verify that in Observation table where observation_source_concept_id = 1585249, value_source_concept_id that populates are none of the ones listed in the J column AND one of the value_source_concept_id popluates as 2000000011.\n",
    "\n",
    "DC-1045\n",
    "\n",
    "For rows in the pre_deid_com_cdr OBSERVATION table where observation_source_concept_id = 1585249 (StreetAddress_PIIState)  where the value_source_concept_id is one of the values listed in the query,  (generalize value_source_concept_id to XXX (Unspecified state))\n",
    "\n",
    "step1:\n",
    "\n",
    "1. query with the condition \n",
    "observation_source_concept_id = 1585249\n",
    "2. verify that none value_source_concept_id listed in J show up in the results.  \n",
    "\n",
    "expected results:\n",
    "\n",
    "1. value_source_concept_id of the States that are not generalized show up AND \n",
    "\n",
    "2.only one row displays the generalized value_source_concept_id :  2000000011. \n",
    " \n",
    "step2 \n",
    "\n",
    "1. query using the listed value_source_concept_id as condition\n",
    "\n",
    "2. these are the states that are generalized. \n",
    "\n",
    "expected results: returns no results "
   ]
  },
  {
   "cell_type": "code",
   "execution_count": null,
   "metadata": {},
   "outputs": [],
   "source": [
    "query=JINJA_ENV.from_string(\"\"\" \n",
    "WITH df1 AS (\n",
    "SELECT distinct deid.value_source_concept_id\n",
    "FROM\n",
    "  `{{project_id}}.{{combine}}.observation` com\n",
    "  JOIN `{{project_id}}.{{rt_cdr_deid}}.observation` deid \n",
    "  ON com.observation_id=deid.observation_id\n",
    "  \n",
    "WHERE\n",
    "  com.observation_source_value LIKE 'StreetAddress_PIIState'\n",
    "  AND com.observation_source_concept_id = 1585249\n",
    "  AND ( com.value_source_concept_id =         1585299\n",
    "OR com.value_source_concept_id =        1585304\n",
    "OR com.value_source_concept_id =        1585284\n",
    "OR com.value_source_concept_id =        1585315\n",
    "OR com.value_source_concept_id =        1585271\n",
    "OR com.value_source_concept_id =        1585263\n",
    "OR com.value_source_concept_id =        1585306\n",
    "OR com.value_source_concept_id =        1585274\n",
    "OR com.value_source_concept_id =        1585270\n",
    "OR com.value_source_concept_id =        1585411\n",
    "OR com.value_source_concept_id =        1585313\n",
    "OR com.value_source_concept_id =        1585409\n",
    "OR com.value_source_concept_id =        1585262\n",
    "OR com.value_source_concept_id =        1585309\n",
    "OR com.value_source_concept_id =        1585307\n",
    "OR com.value_source_concept_id =        1585275)\n",
    ")\n",
    "\n",
    "SELECT COUNT (*) AS n_row_not_pass FROM df1\n",
    "WHERE value_source_concept_id !=2000000011\n",
    "\"\"\")\n",
    "q = query.render(project_id=project_id,rt_cdr_deid=rt_cdr_deid,combine=combine)\n",
    "df1=execute(client, q)\n",
    "\n",
    "if df1.loc[0].sum()==0:\n",
    " df = df.append({'query' : 'Query5_state_generalization', 'result' : 'PASS'},  \n",
    "                ignore_index = True) \n",
    "else:\n",
    " df = df.append({'query' : 'Query5_state_generalization', 'result' : 'Failure'},  \n",
    "                ignore_index = True) \n",
    "df1"
   ]
  },
  {
   "cell_type": "code",
   "execution_count": null,
   "metadata": {},
   "outputs": [],
   "source": [
    "query=JINJA_ENV.from_string(\"\"\" \n",
    "WITH df1 AS (\n",
    "SELECT distinct deid.value_source_concept_id\n",
    "FROM\n",
    "  `{{project_id}}.{{combine}}.observation` com\n",
    "  JOIN `{{project_id}}.{{rt_cdr_deid}}.observation` deid \n",
    "  ON com.observation_id=deid.observation_id\n",
    "  \n",
    "WHERE\n",
    "  com.observation_source_value LIKE 'StreetAddress_PIIState'\n",
    "  AND com.observation_source_concept_id = 1585249\n",
    "  AND ( com.value_source_concept_id =         1585299\n",
    "OR com.value_source_concept_id =        1585304\n",
    "OR com.value_source_concept_id =        1585284\n",
    "OR com.value_source_concept_id =        1585315\n",
    "OR com.value_source_concept_id =        1585271\n",
    "OR com.value_source_concept_id =        1585263\n",
    "OR com.value_source_concept_id =        1585306\n",
    "OR com.value_source_concept_id =        1585274\n",
    "OR com.value_source_concept_id =        1585270\n",
    "OR com.value_source_concept_id =        1585411\n",
    "OR com.value_source_concept_id =        1585313\n",
    "OR com.value_source_concept_id =        1585409\n",
    "OR com.value_source_concept_id =        1585262\n",
    "OR com.value_source_concept_id =        1585309\n",
    "OR com.value_source_concept_id =        1585307\n",
    "OR com.value_source_concept_id =        1585275)\n",
    ")\n",
    "\n",
    "SELECT * FROM df1\n",
    "WHERE value_source_concept_id !=2000000011\n",
    "\"\"\")\n",
    "q = query.render(project_id=project_id,rt_cdr_deid=rt_cdr_deid,combine=combine)\n",
    "df1=execute(client, q)\n",
    "df1"
   ]
  },
  {
   "cell_type": "markdown",
   "metadata": {},
   "source": [
    "## Query6 update to verifie that value_as_concept_id and value_source_concept_id are set to 2000000011 for states with less than 200 participants.\n",
    "\n",
    "Set the value_source_concept_id = 2000000011 and value_as_concept_id =2000000011 \n",
    "\n",
    "DC-2377 and DC-1614\n"
   ]
  },
  {
   "cell_type": "code",
   "execution_count": null,
   "metadata": {},
   "outputs": [],
   "source": [
    "query=JINJA_ENV.from_string(\"\"\" \n",
    "\n",
    "with df1 as (\n",
    "select value_source_concept_id, value_as_concept_id ,count(*) as participant_count\n",
    "from `{{project_id}}.{{rt_cdr_deid}}.observation`\n",
    "where observation_source_concept_id = 1585249\n",
    "group by 1,2\n",
    "\n",
    ")\n",
    "\n",
    "SELECT COUNT (*) AS n_row_not_pass FROM df1\n",
    "WHERE (value_source_concept_id !=2000000011 or value_as_concept_id !=2000000011) and \n",
    "participant_count < {{pid_threshold}}\n",
    "\"\"\")\n",
    "q = query.render(project_id=project_id,rt_cdr_deid=rt_cdr_deid,pid_threshold=pid_threshold)\n",
    "df1=execute(client, q)\n",
    "\n",
    "if df1.loc[0].sum()==0:\n",
    " df = df.append({'query' : 'Query6 state generalization if counts <200', 'result' : 'PASS'},  \n",
    "                ignore_index = True) \n",
    "else:\n",
    " df = df.append({'query' : 'Query6 state generalization if counts <200', 'result' : 'Failure'},  \n",
    "                ignore_index = True) \n",
    "df1"
   ]
  },
  {
   "cell_type": "markdown",
   "metadata": {},
   "source": [
    "# Summary_deid_household AND state generalization"
   ]
  },
  {
   "cell_type": "code",
   "execution_count": null,
   "metadata": {},
   "outputs": [],
   "source": [
    "def highlight_cells(val):\n",
    "    color = 'red' if 'Failure' in val else 'white'\n",
    "    return f'background-color: {color}' \n",
    "\n",
    "df.style.applymap(highlight_cells).set_properties(**{'text-align': 'left'})"
   ]
  }
 ],
 "metadata": {
  "jupytext": {
   "encoding": "# -*- coding: utf-8 -*-"
  },
  "kernelspec": {
   "display_name": "Python 3",
   "language": "python",
   "name": "python3"
  }
 },
 "nbformat": 4,
 "nbformat_minor": 4
}
