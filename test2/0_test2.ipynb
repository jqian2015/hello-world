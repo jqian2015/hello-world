{
 "cells": [
  {
   "cell_type": "markdown",
   "metadata": {
    "papermill": {
     "duration": 0.015088,
     "end_time": "2022-08-30T20:31:19.583817",
     "exception": false,
     "start_time": "2022-08-30T20:31:19.568729",
     "status": "completed"
    },
    "tags": []
   },
   "source": [
    "# QA queries on new CDR_deid household AND state generalization"
   ]
  },
  {
   "cell_type": "code",
   "execution_count": null,
   "metadata": {
    "papermill": {
     "duration": 0.019286,
     "end_time": "2022-08-30T20:31:19.613945",
     "exception": false,
     "start_time": "2022-08-30T20:31:19.594659",
     "status": "completed"
    },
    "tags": [
     "parameters"
    ]
   },
   "outputs": [],
   "source": [
    "project_id = \"\"\n",
    "rt_cdr_deid=\"\"\n",
    "combine = \"\"\n",
    "pid_threshold=\"\""
   ]
  },
  {
   "cell_type": "code",
   "execution_count": null,
   "metadata": {
    "lines_to_next_cell": 2,
    "papermill": {
     "duration": 0.022464,
     "end_time": "2022-08-30T20:31:19.647295",
     "exception": false,
     "start_time": "2022-08-30T20:31:19.624831",
     "status": "completed"
    },
    "tags": [
     "injected-parameters"
    ]
   },
   "outputs": [],
   "source": [
    "# Parameters\n",
    "project_id = \"aou-res-curation-prod\"\n",
    "combine = \"2021q3r2_combined\"\n",
    "rt_cdr_deid = \"R2021q3r2_deid\"\n",
    "pid_threshold = \"200\""
   ]
  },
  {
   "cell_type": "code",
   "execution_count": null,
   "metadata": {
    "papermill": {
     "duration": 1.896856,
     "end_time": "2022-08-30T20:31:21.554124",
     "exception": false,
     "start_time": "2022-08-30T20:31:19.657268",
     "status": "completed"
    },
    "tags": []
   },
   "outputs": [],
   "source": [
    "import pandas as pd\n",
    "\n",
    "from analytics.cdr_ops.notebook_utils import execute\n",
    "from common import JINJA_ENV\n",
    "from utils import auth\n",
    "from utils.bq import get_client\n",
    "\n",
    "client = get_client(project_id)\n",
    "\n",
    "pd.options.display.max_rows = 120\n",
    "pd.set_option('display.max_colwidth', -1) # show all content"
   ]
  },
  {
   "cell_type": "code",
   "execution_count": null,
   "metadata": {
    "papermill": {
     "duration": 0.023322,
     "end_time": "2022-08-30T20:31:21.588284",
     "exception": false,
     "start_time": "2022-08-30T20:31:21.564962",
     "status": "completed"
    },
    "tags": []
   },
   "outputs": [],
   "source": [
    "# df will have a summary in the end\n",
    "df = pd.DataFrame(columns = ['query', 'result']) "
   ]
  },
  {
   "cell_type": "code",
   "execution_count": null,
   "metadata": {},
   "outputs": [],
   "source": [
    "#project_id='aou-res-curation-prod'\n",
    "#rt_cdr_deid='R2021q3r2_deid'\n",
    "#table='pdr_participant'\n",
    "\n",
    "query = f\"\"\"\n",
    "\n",
    "SELECT \n",
    "*\n",
    "FROM `{project_id}.{rt_cdr_deid}.person` \n",
    "limit 5\n",
    "\"\"\"\n",
    "df1 = pd.read_gbq(query, dialect='standard')\n",
    "df1.shape"
   ]
  },
  {
   "cell_type": "code",
   "execution_count": null,
   "metadata": {},
   "outputs": [],
   "source": [
    "#project_id='aou-res-curation-prod'\n",
    "#rt_cdr_deid='R2021q3r2_deid'\n",
    "#table='pdr_participant'\n",
    "\n",
    "query = JINJA_ENV.from_string(\"\"\"\n",
    "\n",
    "SELECT \n",
    "*\n",
    "FROM `{{project_id}}.{{rt_cdr_deid}}.person` \n",
    "limit 5\n",
    "\"\"\")\n",
    "q = query.render(project_id=project_id,rt_cdr_deid=rt_cdr_deid)\n",
    "\n",
    "df1=execute(client, q)\n",
    "df1.shape"
   ]
  },
  {
   "cell_type": "code",
   "execution_count": null,
   "metadata": {
    "papermill": {
     "duration": 2.427138,
     "end_time": "2022-08-30T20:31:24.048182",
     "exception": false,
     "start_time": "2022-08-30T20:31:21.621044",
     "status": "completed"
    },
    "tags": []
   },
   "outputs": [],
   "source": [
    "query=JINJA_ENV.from_string(\"\"\"\n",
    "\n",
    "SELECT COUNT (*) AS n_row_not_pass\n",
    "FROM `{{project_id}}.{{rt_cdr_deid}}.observation`\n",
    "WHERE\n",
    "  observation_source_concept_id = 1585890\n",
    "  AND value_as_concept_id NOT IN (2000000012,2000000010,903096)\n",
    "\"\"\")\n",
    "q = query.render(project_id=project_id,rt_cdr_deid=rt_cdr_deid)\n",
    "df1=execute(client, q)\n",
    "\n",
    "if df1.loc[0].sum()==0:\n",
    " df = df.append({'query' : 'Query1 observation_source_concept_id 1585890', 'result' : 'PASS'},  \n",
    "                ignore_index = True) \n",
    "else:\n",
    " df = df.append({'query' : 'Query1 observation_source_concept_id 1585890', 'result' : 'Failure'},  \n",
    "                ignore_index = True) \n",
    "df1"
   ]
  },
  {
   "cell_type": "markdown",
   "metadata": {
    "papermill": {
     "duration": 0.01686,
     "end_time": "2022-08-30T20:31:37.153798",
     "exception": false,
     "start_time": "2022-08-30T20:31:37.136938",
     "status": "completed"
    },
    "tags": []
   },
   "source": [
    "# Summary_deid_household AND state generalization"
   ]
  },
  {
   "cell_type": "code",
   "execution_count": null,
   "metadata": {
    "papermill": {
     "duration": 0.479086,
     "end_time": "2022-08-30T20:31:37.650676",
     "exception": false,
     "start_time": "2022-08-30T20:31:37.171590",
     "status": "completed"
    },
    "tags": []
   },
   "outputs": [],
   "source": [
    "def highlight_cells(val):\n",
    "    color = 'red' if 'Failure' in val else 'white'\n",
    "    return f'background-color: {color}' \n",
    "\n",
    "df.style.applymap(highlight_cells).set_properties(**{'text-align': 'left'})"
   ]
  },
  {
   "cell_type": "code",
   "execution_count": null,
   "metadata": {},
   "outputs": [],
   "source": [
    "!gcloud auth list"
   ]
  },
  {
   "cell_type": "code",
   "execution_count": null,
   "metadata": {},
   "outputs": [],
   "source": [
    "!printenv PYTHONPATH"
   ]
  },
  {
   "cell_type": "code",
   "execution_count": null,
   "metadata": {},
   "outputs": [],
   "source": [
    "!printenv GOOGLE_APPLICATION_CREDENTIALS"
   ]
  },
  {
   "cell_type": "code",
   "execution_count": null,
   "metadata": {},
   "outputs": [],
   "source": []
  }
 ],
 "metadata": {
  "jupytext": {
   "encoding": "# -*- coding: utf-8 -*-"
  },
  "kernelspec": {
   "display_name": "Python 3",
   "language": "python",
   "name": "python3"
  }
 },
 "nbformat": 4,
 "nbformat_minor": 4
}
